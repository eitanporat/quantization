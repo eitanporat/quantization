{
 "cells": [
  {
   "cell_type": "code",
   "execution_count": 3,
   "id": "a5136619-d84f-49fa-907a-09b595c5a850",
   "metadata": {
    "tags": []
   },
   "outputs": [],
   "source": [
    "import torch\n",
    "import torch.nn as nn\n",
    "import numpy as np\n",
    "\n",
    "MIN_RANGE = -128\n",
    "MAX_RANGE = 127\n",
    "\n",
    "def quantize(tensor, new_min=MIN_RANGE, new_max=MAX_RANGE, dtype=torch.float32):\n",
    "    min_val = torch.min(tensor, axis=-1).values.unsqueeze(-1)\n",
    "    max_val = torch.max(tensor, axis=-1).values.unsqueeze(-1)\n",
    "    scale = (new_max - new_min) / (max_val - min_val)\n",
    "    result = torch.round((tensor - min_val) * scale + new_min).to(dtype)\n",
    "    bias = new_min - scale * min_val\n",
    "    return result, scale[...,0], bias[...,0]\n",
    "\n",
    "def int8_32_matmul(a, b):\n",
    "    return torch.matmul(a,b)\n",
    "\n",
    "def dequantize(tensor, scale, bias, dtype=torch.float32):\n",
    "    return ((tensor.to(dtype) - bias.unsqueeze(-1)) / scale.unsqueeze(-1)).to(dtype)\n",
    "\n",
    "class QuantizedMatrix:\n",
    "    def __init__(self, matrix, min_range=MIN_RANGE, max_range=MAX_RANGE):\n",
    "        self.matrix = matrix\n",
    "        self.min_range = min_range\n",
    "        self.max_range = max_range\n",
    "        \n",
    "        (self.q, self.s, self.b) = quantize(self.matrix, new_min=self.min_range, new_max=self.max_range)\n",
    "        self.q_minus_b = (self.q - self.b.unsqueeze(-1)).sum(axis=-1)\n",
    "        self.inv_s = 1./self.s\n",
    "        \n",
    "    def __matmul__(self, other) -> np.ndarray:\n",
    "        z = int8_32_matmul(self.q, other.q.T)\n",
    "        E_1 = torch.einsum('bi,j->bij', -self.b, other.q_minus_b)\n",
    "        E_2 = torch.einsum('bi,j->bij', self.q.sum(axis=-1), -other.b)\n",
    "        res = torch.einsum('bij,bi,j->bij', z + E_1 + E_2, self.inv_s, other.inv_s)\n",
    "        return res\n",
    "    \n",
    "    def dequantize(self):\n",
    "        return dequantize(self.q, self.s, self.b)\n",
    "    "
   ]
  },
  {
   "cell_type": "code",
   "execution_count": 4,
   "id": "65644952-09f3-4986-8f3d-2a9c2cbd21b9",
   "metadata": {
    "tags": []
   },
   "outputs": [],
   "source": [
    "import numpy as np\n",
    "from typing import List\n",
    "import math\n",
    "\n",
    "def permute_matrix_operation(a: np.ndarray, permutations: np.ndarray, matrices: np.ndarray):\n",
    "    n = len(a)\n",
    "    assert n == 2 ** int(math.log2(n))\n",
    "    assert len(a.shape) == 2\n",
    "    assert all(matrix.shape == (n//2, 2, 2) for matrix in matrices)\n",
    "    assert all(set(permutation) == set(range(n)) for permutation in permutations)\n",
    "\n",
    "    # for every layer in circuit\n",
    "    for permutation, matrix in zip(permutations, matrices): \n",
    "        new_a = np.zeros_like(a)\n",
    "        a = a[permutation]\n",
    "        new_a[::2] = a[::2] * matrix[:,0,0].reshape(n//2, 1) + a[1::2] * matrix[:,0,1].reshape(n//2, 1)\n",
    "        new_a[1::2] = a[::2] * matrix[:,1,0].reshape(n//2, 1) + a[1::2] * matrix[:,1,1].reshape(n//2, 1)\n",
    "        a[permutation] = new_a\n",
    "        \n",
    "    return a"
   ]
  },
  {
   "cell_type": "code",
   "execution_count": 5,
   "id": "cb3ff5a9-d610-4c6b-85f7-8b5d278f7d0c",
   "metadata": {
    "tags": []
   },
   "outputs": [
    {
     "data": {
      "text/plain": [
       "array([[ 1.00e+00+0.j  ,  1.00e+00+0.j  ,  1.00e+00+0.j  ,\n",
       "         1.00e+00+0.j  ,  1.00e+00+0.j  ,  1.00e+00+0.j  ,\n",
       "         1.00e+00+0.j  ,  1.00e+00+0.j  ,  1.00e+00+0.j  ,\n",
       "         1.00e+00+0.j  ,  1.00e+00+0.j  ,  1.00e+00+0.j  ,\n",
       "         1.00e+00+0.j  ,  1.00e+00+0.j  ,  1.00e+00+0.j  ,\n",
       "         1.00e+00+0.j  ],\n",
       "       [ 1.00e+00+0.j  ,  9.24e-01+0.38j,  7.07e-01+0.71j,\n",
       "         3.83e-01+0.92j,  6.12e-17+1.j  , -3.83e-01+0.92j,\n",
       "        -7.07e-01+0.71j, -9.24e-01+0.38j, -1.00e+00+0.j  ,\n",
       "        -9.24e-01-0.38j, -7.07e-01-0.71j, -3.83e-01-0.92j,\n",
       "        -6.12e-17-1.j  ,  3.83e-01-0.92j,  7.07e-01-0.71j,\n",
       "         9.24e-01-0.38j],\n",
       "       [ 1.00e+00+0.j  ,  7.07e-01+0.71j,  2.22e-16+1.j  ,\n",
       "        -7.07e-01+0.71j, -1.00e+00+0.j  , -7.07e-01-0.71j,\n",
       "        -2.22e-16-1.j  ,  7.07e-01-0.71j,  1.00e+00+0.j  ,\n",
       "         7.07e-01+0.71j,  2.22e-16+1.j  , -7.07e-01+0.71j,\n",
       "        -1.00e+00+0.j  , -7.07e-01-0.71j, -2.22e-16-1.j  ,\n",
       "         7.07e-01-0.71j],\n",
       "       [ 1.00e+00+0.j  ,  3.83e-01+0.92j, -7.07e-01+0.71j,\n",
       "        -9.24e-01-0.38j, -6.12e-17-1.j  ,  9.24e-01-0.38j,\n",
       "         7.07e-01+0.71j, -3.83e-01+0.92j, -1.00e+00+0.j  ,\n",
       "        -3.83e-01-0.92j,  7.07e-01-0.71j,  9.24e-01+0.38j,\n",
       "         6.12e-17+1.j  , -9.24e-01+0.38j, -7.07e-01-0.71j,\n",
       "         3.83e-01-0.92j],\n",
       "       [ 1.00e+00+0.j  , -1.11e-16+1.j  , -1.00e+00+0.j  ,\n",
       "         1.11e-16-1.j  ,  1.00e+00+0.j  , -1.11e-16+1.j  ,\n",
       "        -1.00e+00+0.j  ,  1.11e-16-1.j  ,  1.00e+00+0.j  ,\n",
       "        -1.11e-16+1.j  , -1.00e+00+0.j  ,  1.11e-16-1.j  ,\n",
       "         1.00e+00+0.j  , -1.11e-16+1.j  , -1.00e+00+0.j  ,\n",
       "         1.11e-16-1.j  ],\n",
       "       [ 1.00e+00+0.j  , -3.83e-01+0.92j, -7.07e-01-0.71j,\n",
       "         9.24e-01-0.38j,  6.12e-17+1.j  , -9.24e-01-0.38j,\n",
       "         7.07e-01-0.71j,  3.83e-01+0.92j, -1.00e+00+0.j  ,\n",
       "         3.83e-01-0.92j,  7.07e-01+0.71j, -9.24e-01+0.38j,\n",
       "        -6.12e-17-1.j  ,  9.24e-01+0.38j, -7.07e-01+0.71j,\n",
       "        -3.83e-01-0.92j],\n",
       "       [ 1.00e+00+0.j  , -7.07e-01+0.71j, -2.22e-16-1.j  ,\n",
       "         7.07e-01+0.71j, -1.00e+00+0.j  ,  7.07e-01-0.71j,\n",
       "         2.22e-16+1.j  , -7.07e-01-0.71j,  1.00e+00+0.j  ,\n",
       "        -7.07e-01+0.71j, -2.22e-16-1.j  ,  7.07e-01+0.71j,\n",
       "        -1.00e+00+0.j  ,  7.07e-01-0.71j,  2.22e-16+1.j  ,\n",
       "        -7.07e-01-0.71j],\n",
       "       [ 1.00e+00+0.j  , -9.24e-01+0.38j,  7.07e-01-0.71j,\n",
       "        -3.83e-01+0.92j, -6.12e-17-1.j  ,  3.83e-01+0.92j,\n",
       "        -7.07e-01-0.71j,  9.24e-01+0.38j, -1.00e+00+0.j  ,\n",
       "         9.24e-01-0.38j, -7.07e-01+0.71j,  3.83e-01-0.92j,\n",
       "         6.12e-17+1.j  , -3.83e-01-0.92j,  7.07e-01+0.71j,\n",
       "        -9.24e-01-0.38j],\n",
       "       [ 1.00e+00+0.j  , -1.00e+00+0.j  ,  1.00e+00+0.j  ,\n",
       "        -1.00e+00+0.j  ,  1.00e+00+0.j  , -1.00e+00+0.j  ,\n",
       "         1.00e+00+0.j  , -1.00e+00+0.j  ,  1.00e+00+0.j  ,\n",
       "        -1.00e+00+0.j  ,  1.00e+00+0.j  , -1.00e+00+0.j  ,\n",
       "         1.00e+00+0.j  , -1.00e+00+0.j  ,  1.00e+00+0.j  ,\n",
       "        -1.00e+00+0.j  ],\n",
       "       [ 1.00e+00+0.j  , -9.24e-01-0.38j,  7.07e-01+0.71j,\n",
       "        -3.83e-01-0.92j,  6.12e-17+1.j  ,  3.83e-01-0.92j,\n",
       "        -7.07e-01+0.71j,  9.24e-01-0.38j, -1.00e+00+0.j  ,\n",
       "         9.24e-01+0.38j, -7.07e-01-0.71j,  3.83e-01+0.92j,\n",
       "        -6.12e-17-1.j  , -3.83e-01+0.92j,  7.07e-01-0.71j,\n",
       "        -9.24e-01+0.38j],\n",
       "       [ 1.00e+00+0.j  , -7.07e-01-0.71j,  2.22e-16+1.j  ,\n",
       "         7.07e-01-0.71j, -1.00e+00+0.j  ,  7.07e-01+0.71j,\n",
       "        -2.22e-16-1.j  , -7.07e-01+0.71j,  1.00e+00+0.j  ,\n",
       "        -7.07e-01-0.71j,  2.22e-16+1.j  ,  7.07e-01-0.71j,\n",
       "        -1.00e+00+0.j  ,  7.07e-01+0.71j, -2.22e-16-1.j  ,\n",
       "        -7.07e-01+0.71j],\n",
       "       [ 1.00e+00+0.j  , -3.83e-01-0.92j, -7.07e-01+0.71j,\n",
       "         9.24e-01+0.38j, -6.12e-17-1.j  , -9.24e-01+0.38j,\n",
       "         7.07e-01+0.71j,  3.83e-01-0.92j, -1.00e+00+0.j  ,\n",
       "         3.83e-01+0.92j,  7.07e-01-0.71j, -9.24e-01-0.38j,\n",
       "         6.12e-17+1.j  ,  9.24e-01-0.38j, -7.07e-01-0.71j,\n",
       "        -3.83e-01+0.92j],\n",
       "       [ 1.00e+00+0.j  ,  1.11e-16-1.j  , -1.00e+00+0.j  ,\n",
       "        -1.11e-16+1.j  ,  1.00e+00+0.j  ,  1.11e-16-1.j  ,\n",
       "        -1.00e+00+0.j  , -1.11e-16+1.j  ,  1.00e+00+0.j  ,\n",
       "         1.11e-16-1.j  , -1.00e+00+0.j  , -1.11e-16+1.j  ,\n",
       "         1.00e+00+0.j  ,  1.11e-16-1.j  , -1.00e+00+0.j  ,\n",
       "        -1.11e-16+1.j  ],\n",
       "       [ 1.00e+00+0.j  ,  3.83e-01-0.92j, -7.07e-01-0.71j,\n",
       "        -9.24e-01+0.38j,  6.12e-17+1.j  ,  9.24e-01+0.38j,\n",
       "         7.07e-01-0.71j, -3.83e-01-0.92j, -1.00e+00+0.j  ,\n",
       "        -3.83e-01+0.92j,  7.07e-01+0.71j,  9.24e-01-0.38j,\n",
       "        -6.12e-17-1.j  , -9.24e-01-0.38j, -7.07e-01+0.71j,\n",
       "         3.83e-01+0.92j],\n",
       "       [ 1.00e+00+0.j  ,  7.07e-01-0.71j, -2.22e-16-1.j  ,\n",
       "        -7.07e-01-0.71j, -1.00e+00+0.j  , -7.07e-01+0.71j,\n",
       "         2.22e-16+1.j  ,  7.07e-01+0.71j,  1.00e+00+0.j  ,\n",
       "         7.07e-01-0.71j, -2.22e-16-1.j  , -7.07e-01-0.71j,\n",
       "        -1.00e+00+0.j  , -7.07e-01+0.71j,  2.22e-16+1.j  ,\n",
       "         7.07e-01+0.71j],\n",
       "       [ 1.00e+00+0.j  ,  9.24e-01-0.38j,  7.07e-01-0.71j,\n",
       "         3.83e-01-0.92j, -6.12e-17-1.j  , -3.83e-01-0.92j,\n",
       "        -7.07e-01-0.71j, -9.24e-01-0.38j, -1.00e+00+0.j  ,\n",
       "        -9.24e-01+0.38j, -7.07e-01+0.71j, -3.83e-01+0.92j,\n",
       "         6.12e-17+1.j  ,  3.83e-01+0.92j,  7.07e-01+0.71j,\n",
       "         9.24e-01+0.38j]], dtype=complex64)"
      ]
     },
     "execution_count": 5,
     "metadata": {},
     "output_type": "execute_result"
    }
   ],
   "source": [
    "np.set_printoptions(precision=2)\n",
    "\n",
    "n = 16\n",
    "a = np.eye(n, dtype=np.complex64)\n",
    "permutations = []\n",
    "matrices = []\n",
    "\n",
    "for s in range(1, int(np.log2(n)) + 1):\n",
    "    matrix = []\n",
    "    permutation = []\n",
    "    \n",
    "    m = 2**s\n",
    "    omega_m = np.exp(2j * np.pi / m)\n",
    "    \n",
    "    for k in range(0, n, m):\n",
    "        omega = 1\n",
    "        for j in range(0, m//2):\n",
    "            matrix.append([[1, omega], [1, -omega]])\n",
    "            permutation.append(k+j)\n",
    "            permutation.append(k+j+m//2)        \n",
    "            omega = omega * omega_m\n",
    "        \n",
    "    permutations.append(np.array(permutation))\n",
    "    matrices.append(np.array(matrix))\n",
    "    \n",
    "def bit_reversal(x, n):\n",
    "    result = 0\n",
    "    for i in range(n):\n",
    "        result = (result << 1) | (x & 1)\n",
    "        x >>= 1\n",
    "    return result\n",
    "\n",
    "def bit_reversal_range(n):\n",
    "    return [bit_reversal(i, int(np.log2(n))) for i in range(n)]\n",
    "\n",
    "permute_matrix_operation(a[bit_reversal_range(n)], permutations, matrices)"
   ]
  },
  {
   "cell_type": "code",
   "execution_count": 6,
   "id": "ae67042a-8424-49cf-b2e2-acb5c24468a9",
   "metadata": {
    "tags": []
   },
   "outputs": [
    {
     "data": {
      "text/plain": [
       "array([[ 1,  1,  1,  1,  1,  1,  1,  1,  1,  1,  1,  1,  1,  1,  1,  1],\n",
       "       [ 1, -1,  1, -1,  1, -1,  1, -1,  1, -1,  1, -1,  1, -1,  1, -1],\n",
       "       [ 1,  1, -1, -1,  1,  1, -1, -1,  1,  1, -1, -1,  1,  1, -1, -1],\n",
       "       [ 1, -1, -1,  1,  1, -1, -1,  1,  1, -1, -1,  1,  1, -1, -1,  1],\n",
       "       [ 1,  1,  1,  1, -1, -1, -1, -1,  1,  1,  1,  1, -1, -1, -1, -1],\n",
       "       [ 1, -1,  1, -1, -1,  1, -1,  1,  1, -1,  1, -1, -1,  1, -1,  1],\n",
       "       [ 1,  1, -1, -1, -1, -1,  1,  1,  1,  1, -1, -1, -1, -1,  1,  1],\n",
       "       [ 1, -1, -1,  1, -1,  1,  1, -1,  1, -1, -1,  1, -1,  1,  1, -1],\n",
       "       [ 1,  1,  1,  1,  1,  1,  1,  1, -1, -1, -1, -1, -1, -1, -1, -1],\n",
       "       [ 1, -1,  1, -1,  1, -1,  1, -1, -1,  1, -1,  1, -1,  1, -1,  1],\n",
       "       [ 1,  1, -1, -1,  1,  1, -1, -1, -1, -1,  1,  1, -1, -1,  1,  1],\n",
       "       [ 1, -1, -1,  1,  1, -1, -1,  1, -1,  1,  1, -1, -1,  1,  1, -1],\n",
       "       [ 1,  1,  1,  1, -1, -1, -1, -1, -1, -1, -1, -1,  1,  1,  1,  1],\n",
       "       [ 1, -1,  1, -1, -1,  1, -1,  1, -1,  1, -1,  1,  1, -1,  1, -1],\n",
       "       [ 1,  1, -1, -1, -1, -1,  1,  1, -1, -1,  1,  1,  1,  1, -1, -1],\n",
       "       [ 1, -1, -1,  1, -1,  1,  1, -1, -1,  1,  1, -1,  1, -1, -1,  1]])"
      ]
     },
     "execution_count": 6,
     "metadata": {},
     "output_type": "execute_result"
    }
   ],
   "source": [
    "n = 16\n",
    "a = np.eye(n, dtype=int)\n",
    "permutations = []\n",
    "matrices = []\n",
    "\n",
    "for s in range(1, int(np.log2(n)) + 1):\n",
    "    matrix = []\n",
    "    permutation = []\n",
    "    \n",
    "    m = 2**s\n",
    "    \n",
    "    for k in range(0, n, m):\n",
    "        for j in range(0, m//2):\n",
    "            matrix.append([[1, 1], [1, -1]])\n",
    "            permutation.append(k+j)\n",
    "            permutation.append(k+j+m//2)        \n",
    "        \n",
    "    permutations.append(np.array(permutation))\n",
    "    matrices.append(np.array(matrix))\n",
    "\n",
    "permute_matrix_operation(a, permutations, matrices)"
   ]
  },
  {
   "cell_type": "code",
   "execution_count": 7,
   "id": "b3dd5096-7682-47bf-b815-b36e50cc2c5f",
   "metadata": {
    "tags": []
   },
   "outputs": [],
   "source": [
    "n = 1024\n",
    "l = []\n",
    "for i in range(1000000):\n",
    "    a = np.random.randint(-128, 128, size=(n,1), dtype=np.int8)\n",
    "    b = np.random.randint(-128, 128, size=(1,n), dtype=np.int8)\n",
    "    l.append((b@a)[0,0])\n"
   ]
  },
  {
   "cell_type": "code",
   "execution_count": 8,
   "id": "e10beba5-4554-41d9-8df8-3ed2573953a2",
   "metadata": {
    "tags": []
   },
   "outputs": [
    {
     "data": {
      "image/png": "[encoded data removed]",
      "text/plain": [
       "<Figure size 640x480 with 1 Axes>"
      ]
     },
     "metadata": {},
     "output_type": "display_data"
    }
   ],
   "source": [
    "import matplotlib.pyplot as plt\n",
    "\n",
    "plt.figure()\n",
    "plt.hist(list(l), bins=256)\n",
    "plt.show()"
   ]
  },
  {
   "cell_type": "code",
   "execution_count": 9,
   "id": "352806f0-bcf9-4e71-8f9c-57d1df813fc6",
   "metadata": {
    "tags": []
   },
   "outputs": [],
   "source": [
    "def invert_matrices(matrices):\n",
    "    matrices_shape = matrices.shape\n",
    "    matrices = matrices.reshape((-1,2,2))\n",
    "    pinv = np.linalg.pinv(matrices)\n",
    "    return pinv.reshape(matrices_shape)\n",
    "\n",
    "def invert_permutations(permutations):\n",
    "    rows = np.arange(permutations.shape[0])[:, np.newaxis]\n",
    "    new_permutations = np.zeros_like(permutations)\n",
    "    new_permutations[rows, permutations] = np.arange(permutations.shape[1])\n",
    "    return new_permutations"
   ]
  },
  {
   "cell_type": "code",
   "execution_count": 10,
   "id": "485c6ae1-3b53-4d5c-b18d-924db988dec7",
   "metadata": {
    "tags": []
   },
   "outputs": [],
   "source": [
    "p = 101\n",
    "\n",
    "def extended_gcd(x, y):\n",
    "    if y == 0:\n",
    "        return x, 1, 0\n",
    "    gcd, a1, b1 = extended_gcd(y, x % y)\n",
    "    a = b1\n",
    "    b = a1 - (x // y) * b1\n",
    "    return gcd, a, b\n",
    "\n",
    "def generate_random_unimodal_matrix(p=101):\n",
    "    while True:\n",
    "        x, y = np.random.randint(-p,p), np.random.randint(-p,p)\n",
    "        gcd, a, b = extended_gcd(x, y)\n",
    "        if gcd == 1:\n",
    "            mat = np.array([[x, y],\n",
    "                            [-b, a]])\n",
    "            mat_perm = np.zeros_like(mat)\n",
    "            mat_perm[np.random.permutation(2)] = mat\n",
    "            return mat_perm"
   ]
  },
  {
   "cell_type": "code",
   "execution_count": 16,
   "id": "a0d161a0-b629-47b4-9d78-f04041c56b0a",
   "metadata": {
    "tags": []
   },
   "outputs": [
    {
     "name": "stdout",
     "output_type": "stream",
     "text": [
      "mat=array([[1., 0., 0., ..., 0., 0., 0.],\n",
      "       [0., 1., 0., ..., 0., 0., 0.],\n",
      "       [0., 0., 1., ..., 0., 0., 0.],\n",
      "       ...,\n",
      "       [0., 0., 0., ..., 1., 0., 0.],\n",
      "       [0., 0., 0., ..., 0., 1., 0.],\n",
      "       [0., 0., 0., ..., 0., 0., 1.]])\n",
      "reconstructed_mat=array([[ 1.00e+00, -1.37e-17, -8.33e-17, ...,  1.74e-19,  2.02e-17,\n",
      "         2.75e-18],\n",
      "       [ 8.25e-18,  1.00e+00,  4.44e-18, ...,  4.31e-18,  2.97e-17,\n",
      "         1.46e-17],\n",
      "       [ 3.89e-16,  1.22e-17,  1.00e+00, ...,  6.33e-18, -2.31e-18,\n",
      "        -5.20e-18],\n",
      "       ...,\n",
      "       [ 2.73e-18, -6.91e-18,  7.72e-18, ...,  1.00e+00,  5.13e-17,\n",
      "        -1.64e-17],\n",
      "       [ 4.12e-17, -3.24e-17,  6.12e-18, ...,  4.19e-17,  1.00e+00,\n",
      "         4.14e-17],\n",
      "       [ 5.39e-18,  2.09e-17,  2.78e-18, ..., -1.09e-17,  2.33e-17,\n",
      "         1.00e+00]])\n",
      "perm_mat=array([[ 6.25e-03, -2.35e-01,  3.68e-02, ..., -3.49e-04, -0.00e+00,\n",
      "         1.20e-02],\n",
      "       [-4.29e-04,  1.27e-02,  7.27e-05, ...,  3.22e-01,  0.00e+00,\n",
      "        -5.24e-03],\n",
      "       [-1.86e-01,  8.87e-02,  3.15e-02, ...,  0.00e+00,  0.00e+00,\n",
      "         0.00e+00],\n",
      "       ...,\n",
      "       [ 0.00e+00,  6.49e-04,  0.00e+00, ...,  7.91e-02, -1.09e-02,\n",
      "        -3.30e-04],\n",
      "       [-7.78e-02,  8.62e-02,  1.19e-02, ...,  0.00e+00, -2.61e-02,\n",
      "         0.00e+00],\n",
      "       [ 0.00e+00,  2.98e-01,  0.00e+00, ..., -8.14e-03,  7.98e-03,\n",
      "         1.31e-02]])\n"
     ]
    }
   ],
   "source": [
    "# from utils import plot_error\n",
    "from scipy.stats import ortho_group\n",
    "\n",
    "n = 128\n",
    "r = 128\n",
    "k = 7\n",
    "np.random.seed(1333)\n",
    "\n",
    "mat = np.eye(n).astype(np.float64)\n",
    "permutations = np.array([np.random.permutation(n) for _ in range(k)])\n",
    "matrices = np.array([ortho_group.rvs(size=128 // 2, dim=2) for _ in range(k)]).reshape((k, n//2, 2, 2))\n",
    "perm_mat = permute_matrix_operation(mat, permutations, matrices)\n",
    "inverse_matrices = invert_matrices(matrices)\n",
    "\n",
    "reconstructed_mat = permute_matrix_operation(perm_mat, permutations[::-1], inverse_matrices[::-1])\n",
    "print(f\"{mat=}\")\n",
    "print(f\"{reconstructed_mat=}\")\n",
    "print(f\"{perm_mat=}\")\n",
    "assert (np.allclose(mat, reconstructed_mat))"
   ]
  },
  {
   "cell_type": "code",
   "execution_count": 200,
   "id": "3e5087dd-214d-45f4-8e83-3bb6091bfe81",
   "metadata": {
    "tags": []
   },
   "outputs": [
    {
     "data": {
      "text/plain": [
       "17.0"
      ]
     },
     "execution_count": 200,
     "metadata": {},
     "output_type": "execute_result"
    }
   ],
   "source": [
    "255/15"
   ]
  },
  {
   "cell_type": "code",
   "execution_count": 201,
   "id": "da26f365-5a84-4b9e-a637-3de9d9f21dcc",
   "metadata": {
    "tags": []
   },
   "outputs": [
    {
     "data": {
      "image/png": "[encoded data removed]",
      "text/plain": [
       "<Figure size 640x480 with 1 Axes>"
      ]
     },
     "metadata": {},
     "output_type": "display_data"
    }
   ],
   "source": [
    "plt.figure()\n",
    "plt.hist(QuantizedMatrix(torch.from_numpy(perm_mat)).q.ravel(), bins=256)\n",
    "plt.show()"
   ]
  },
  {
   "cell_type": "code",
   "execution_count": 198,
   "id": "ac052fe0-5bca-41ba-8233-4323c2d23a44",
   "metadata": {
    "tags": []
   },
   "outputs": [
    {
     "data": {
      "text/plain": [
       "tensor([0.0012, 0.0012, 0.0015, 0.0011, 0.0014, 0.0012, 0.0017, 0.0013, 0.0014,\n",
       "        0.0011, 0.0011, 0.0012, 0.0011, 0.0013, 0.0012, 0.0011, 0.0016, 0.0012,\n",
       "        0.0013, 0.0010, 0.0012, 0.0013, 0.0013, 0.0013, 0.0013, 0.0013, 0.0012,\n",
       "        0.0014, 0.0011, 0.0014, 0.0013, 0.0018, 0.0013, 0.0012, 0.0012, 0.0013,\n",
       "        0.0012, 0.0012, 0.0012, 0.0009, 0.0011, 0.0013, 0.0012, 0.0012, 0.0011,\n",
       "        0.0015, 0.0016, 0.0013, 0.0012, 0.0012, 0.0014, 0.0017, 0.0013, 0.0011,\n",
       "        0.0011, 0.0013, 0.0012, 0.0014, 0.0014, 0.0014, 0.0012, 0.0013, 0.0014,\n",
       "        0.0011, 0.0012, 0.0013, 0.0012, 0.0011, 0.0012, 0.0012, 0.0013, 0.0013,\n",
       "        0.0014, 0.0015, 0.0013, 0.0014, 0.0014, 0.0014, 0.0012, 0.0011, 0.0015,\n",
       "        0.0015, 0.0013, 0.0011, 0.0011, 0.0011, 0.0013, 0.0014, 0.0012, 0.0011,\n",
       "        0.0013, 0.0013, 0.0013, 0.0014, 0.0012, 0.0013, 0.0012, 0.0013, 0.0012,\n",
       "        0.0013, 0.0010, 0.0015, 0.0013, 0.0012, 0.0014, 0.0011, 0.0012, 0.0015,\n",
       "        0.0014, 0.0013, 0.0013, 0.0013, 0.0013, 0.0012, 0.0011, 0.0014, 0.0014,\n",
       "        0.0012, 0.0016, 0.0011, 0.0013, 0.0011, 0.0014, 0.0015, 0.0012, 0.0014,\n",
       "        0.0014, 0.0015], dtype=torch.float64)"
      ]
     },
     "execution_count": 198,
     "metadata": {},
     "output_type": "execute_result"
    }
   ],
   "source": [
    "QuantizedMatrix(torch.from_numpy(perm_mat)).s"
   ]
  },
  {
   "cell_type": "code",
   "execution_count": 123,
   "id": "53dc9b85-5fe9-45cd-9599-9f7374268102",
   "metadata": {
    "tags": []
   },
   "outputs": [
    {
     "data": {
      "text/plain": [
       "1339.62"
      ]
     },
     "execution_count": 123,
     "metadata": {},
     "output_type": "execute_result"
    }
   ],
   "source": [
    "np.percentile(perm_mat.ravel(), 99) - np.percentile(perm_mat.ravel(), 1)"
   ]
  },
  {
   "cell_type": "code",
   "execution_count": 124,
   "id": "c7e0e6eb-1c73-4ae2-ab1f-3cbeeac43b64",
   "metadata": {
    "tags": []
   },
   "outputs": [
    {
     "data": {
      "image/png": "[encoded data removed]",
      "text/plain": [
       "<Figure size 640x480 with 1 Axes>"
      ]
     },
     "metadata": {},
     "output_type": "display_data"
    }
   ],
   "source": [
    "plt.figure()\n",
    "plt.hist(QuantizedMatrix(torch.from_numpy(perm_mat)).q.ravel(), bins=np.arange(-128,128))\n",
    "plt.show()"
   ]
  },
  {
   "cell_type": "code",
   "execution_count": null,
   "id": "9b60d7a3-7a7f-4842-acf7-f72cc8de50b9",
   "metadata": {
    "tags": []
   },
   "outputs": [],
   "source": [
    "perm_mat"
   ]
  },
  {
   "cell_type": "code",
   "execution_count": null,
   "id": "f4ced345-a228-4d92-9960-4111c922c7ef",
   "metadata": {
    "tags": []
   },
   "outputs": [],
   "source": [
    "perm_mat.min()"
   ]
  },
  {
   "cell_type": "code",
   "execution_count": null,
   "id": "d81acf9c-4e74-4d49-8ef9-5f63979bc282",
   "metadata": {
    "tags": []
   },
   "outputs": [],
   "source": [
    "np.linalg.norm(perm_mat, ord=1, axis=-1)"
   ]
  },
  {
   "cell_type": "code",
   "execution_count": null,
   "id": "0aa618eb-19a7-42cd-9097-e7efaecd4dd8",
   "metadata": {
    "tags": []
   },
   "outputs": [],
   "source": [
    "perm_mat.max(axis=-1)"
   ]
  },
  {
   "cell_type": "code",
   "execution_count": null,
   "id": "ec7d86b0-7752-41bc-8922-7993cc5ad6bd",
   "metadata": {
    "tags": []
   },
   "outputs": [],
   "source": [
    "perm_mat"
   ]
  },
  {
   "cell_type": "code",
   "execution_count": null,
   "id": "3daf421e-d635-42e0-bba4-41152c9df8b3",
   "metadata": {},
   "outputs": [],
   "source": [
    "plt.figure()\n",
    "plt.hist(perm_mat.ravel(), bins=256)\n",
    "plt.show()"
   ]
  },
  {
   "cell_type": "code",
   "execution_count": null,
   "id": "6e86237b-089d-4d76-85a5-e944ce97bf2e",
   "metadata": {
    "tags": []
   },
   "outputs": [],
   "source": [
    "mat"
   ]
  },
  {
   "cell_type": "code",
   "execution_count": 125,
   "id": "8f2566cd-8266-4f2e-8674-807a8a54f8d5",
   "metadata": {
    "tags": []
   },
   "outputs": [
    {
     "name": "stdout",
     "output_type": "stream",
     "text": [
      "(32, 32) (32, 32)\n",
      "(9765, 1024) (9765, 1024)\n",
      "(9999360,)\n"
     ]
    },
    {
     "data": {
      "image/png": "[encoded data removed]",
      "text/plain": [
       "<Figure size 640x480 with 1 Axes>"
      ]
     },
     "metadata": {},
     "output_type": "display_data"
    },
    {
     "data": {
      "image/png": "[encoded data removed]",
      "text/plain": [
       "<Figure size 640x480 with 1 Axes>"
      ]
     },
     "metadata": {},
     "output_type": "display_data"
    }
   ],
   "source": [
    "import matplotlib.pyplot as plt\n",
    "\n",
    "np.random.seed(1337)\n",
    "\n",
    "perm_mat_elements = []\n",
    "mat_elements = []\n",
    "\n",
    "for _ in range(10000):\n",
    "    a = np.random.choice([0,1], size=(n,r)) \n",
    "    b = np.random.choice([0,1], size=(r,n))\n",
    "    mat = (a @ b).astype(np.int32)\n",
    "    # mat = np.random.randint(-1, 1, size=(n,n), dtype=np.int32)\n",
    "    permutations = np.array([np.random.permutation(n) for _ in range(k)])\n",
    "    matrices = np.array([2 * np.random.randint(-64, 64, size=(n//2, 2, 2)) + 1 for _ in range(k)])\n",
    "    if not all(np.linalg.det(m) != 0 for m in matrices.reshape((-1,2,2))) or np.linalg.slogdet(mat) == 0:\n",
    "        continue\n",
    "    \n",
    "    perm_mat = permute_matrix_operation(mat, permutations, matrices)\n",
    "    perm_mat_elements.append(perm_mat.astype(np.int8).ravel())\n",
    "    mat_elements.append(mat.astype(np.int8).ravel())\n",
    "\n",
    "print(mat.shape, perm_mat.shape)\n",
    "print(np.array(perm_mat_elements).shape, np.array(mat_elements).shape)\n",
    "print(np.array(perm_mat_elements).flatten().shape)\n",
    "plt.figure()\n",
    "plt.title('histogram of perm matrix elements')\n",
    "plt.hist(np.array(perm_mat_elements).flatten(), bins=np.arange(-128, 129))\n",
    "plt.xticks(np.arange(-128, 128, 16))\n",
    "plt.show()\n",
    "\n",
    "plt.figure()\n",
    "plt.title('histogram of matrix elements')\n",
    "plt.hist(np.array(mat_elements).flatten(), bins=np.arange(-128, 129))\n",
    "plt.xticks(np.arange(-128, 128, 16))\n",
    "plt.show()"
   ]
  },
  {
   "cell_type": "code",
   "execution_count": null,
   "id": "cd66560c-2ae7-4d54-b663-c3f3590c33a9",
   "metadata": {},
   "outputs": [],
   "source": []
  }
 ],
 "metadata": {
  "kernelspec": {
   "display_name": "Python 3 (ipykernel)",
   "language": "python",
   "name": "python3"
  },
  "language_info": {
   "codemirror_mode": {
    "name": "ipython",
    "version": 3
   },
   "file_extension": ".py",
   "mimetype": "text/x-python",
   "name": "python",
   "nbconvert_exporter": "python",
   "pygments_lexer": "ipython3",
   "version": "3.11.7"
  }
 },
 "nbformat": 4,
 "nbformat_minor": 5
}
